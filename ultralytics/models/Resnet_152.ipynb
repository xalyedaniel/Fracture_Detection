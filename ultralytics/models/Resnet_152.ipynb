{
  "nbformat": 4,
  "nbformat_minor": 0,
  "metadata": {
    "colab": {
      "provenance": []
    },
    "kernelspec": {
      "name": "python3",
      "display_name": "Python 3"
    },
    "language_info": {
      "name": "python"
    }
  },
  "cells": [
    {
      "cell_type": "code",
      "source": [],
      "metadata": {
        "id": "dNa_ZiOrncJ1"
      },
      "execution_count": 10,
      "outputs": []
    },
    {
      "cell_type": "code",
      "execution_count": 11,
      "metadata": {
        "id": "m4oAkeODMeSn"
      },
      "outputs": [],
      "source": [
        "import torch\n",
        "import pandas as pd\n",
        "import torch.nn as nn\n",
        "import torch.optim as optim\n",
        "from torchvision import models, transforms\n",
        "from torch.utils.data import DataLoader, Dataset\n",
        "from sklearn.model_selection import train_test_split\n",
        "import cv2\n",
        "# Define a custom dataset class for GRAZPEDWRI-DX\n",
        "class GrazpedwriDataset(Dataset):\n",
        "    def __init__(self, image_filenames, labels, transform=None):\n",
        "        self.image_filenames = image_filenames\n",
        "        self.labels = labels\n",
        "        self.transform = transform\n",
        "\n",
        "    def __len__(self):\n",
        "        return len(self.image_filenames)\n",
        "\n",
        "    def __getitem__(self, idx):\n",
        "        image = cv2.imread(self.image_filenames[idx], cv2.IMREAD_GRAYSCALE)\n",
        "        label = self.labels[idx]\n",
        "\n",
        "        if self.transform:\n",
        "            image = self.transform(image)\n",
        "\n",
        "        return image, label\n",
        "\n",
        "# Load image filenames and labels (assuming you have already loaded them)\n",
        "# Replace with actual image filenames and labels\n",
        "dataset = pd.read_csv(\"grazpedwri_dx_dataset.csv\")\n",
        "label = pd.read_csv('labels.csv')\n",
        "image_filenames = dataset['filestem']+'.png'\n",
        "labels = label['label']  # Binary labels (e.g., 0 for non-fracture, 1 for fracture)\n",
        "\n",
        "# Split data into train and validation sets\n",
        "train_filenames, val_filenames, train_labels, val_labels = train_test_split(\n",
        "    image_filenames, labels, test_size=0.2, random_state=42\n",
        ")\n",
        "\n",
        "# Define data transformations\n",
        "transform = transforms.Compose([\n",
        "    transforms.ToPILImage(),\n",
        "    transforms.Resize((224, 224)),\n",
        "    transforms.ToTensor(),\n",
        "    transforms.Normalize(mean=[0.485], std=[0.229])\n",
        "])\n",
        "\n",
        "# Create custom datasets\n",
        "train_dataset = GrazpedwriDataset(train_filenames, train_labels, transform=transform)\n",
        "val_dataset = GrazpedwriDataset(val_filenames, val_labels, transform=transform)\n",
        "\n",
        "# Create data loaders\n",
        "batch_size = 16\n",
        "train_loader = DataLoader(train_dataset, batch_size=batch_size, shuffle=True)\n",
        "val_loader = DataLoader(val_dataset, batch_size=batch_size, shuffle=False)\n",
        "\n",
        "# Load pre-trained ResNet-152\n",
        "model = models.resnet152(pretrained=True)\n",
        "num_features = model.fc.in_features\n",
        "\n",
        "# Modify the classifier for binary classification\n",
        "model.fc = nn.Sequential(\n",
        "    nn.Linear(num_features, 1),\n",
        "    nn.Sigmoid()\n",
        ")\n",
        "\n",
        "# Define loss function and optimizer\n",
        "criterion = nn.BCELoss()\n",
        "optimizer = optim.Adam(model.parameters(), lr=0.001)\n",
        "\n",
        "# Training loop\n",
        "num_epochs = 10\n",
        "device = torch.device(\"cuda\" if torch.cuda.is_available() else \"cpu\")\n",
        "model.to(device)\n",
        "\n",
        "for epoch in range(num_epochs):\n",
        "    model.train()\n",
        "    for images, labels in train_loader:\n",
        "        images, labels = images.to(device), labels.to(device)\n",
        "        optimizer.zero_grad()\n",
        "        outputs = model(images).squeeze()\n",
        "        loss = criterion(outputs, labels.float())\n",
        "        loss.backward()\n",
        "        optimizer.step()\n",
        "\n",
        "    # Validation\n",
        "    model.eval()\n",
        "    val_loss = 0.0\n",
        "    with torch.no_grad():\n",
        "        for images, labels in val_loader:\n",
        "            images, labels = images.to(device), labels.to(device)\n",
        "            outputs = model(images).squeeze()\n",
        "            val_loss += criterion(outputs, labels.float()).item()\n",
        "\n",
        "    print(f\"Epoch [{epoch+1}/{num_epochs}] - Val Loss: {val_loss/len(val_loader):.4f}\")\n",
        "\n",
        "print(\"Training complete!\")\n",
        "\n",
        "# Save the trained model\n",
        "torch.save(model.state_dict(), \"resnet152_grazpedwri.pth\")\n",
        "print(\"Model saved as resnet152_grazpedwri.pth\")\n"
      ]
    },
    {
      "cell_type": "code",
      "source": [],
      "metadata": {
        "id": "AHG-op4YzN7t"
      },
      "execution_count": null,
      "outputs": []
    },
    {
      "cell_type": "code",
      "source": [],
      "metadata": {
        "id": "P2qyiJNWzOBp"
      },
      "execution_count": null,
      "outputs": []
    },
    {
      "cell_type": "code",
      "source": [],
      "metadata": {
        "id": "pcW5mFwPNNVy"
      },
      "execution_count": null,
      "outputs": []
    }
  ]
}